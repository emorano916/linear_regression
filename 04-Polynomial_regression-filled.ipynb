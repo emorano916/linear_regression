{
 "cells": [
  {
   "cell_type": "markdown",
   "metadata": {},
   "source": [
    "# Polynomial regression\n",
    "Polynomial regression will allow us to build a nonlinear model by adopting and fitting a polynomial.\n",
    "\n",
    "We have seen how to solve a linear problem. But in everyday life, we meet a lot of other models that are not linear, which are made of curves, sinusoids etc...\n",
    "\n",
    "If we observe the contanimation rate of a pandemic, the line will not be linear but will probably look like an exponential curve.\n",
    "\n",
    "For example, if you apply a linear model on these data :\n"
   ]
  },
  {
   "cell_type": "markdown",
   "metadata": {},
   "source": [
    "\n",
    "\n",
    "![polynomial](./assets/polynom_1.JPG)\n",
    "\n",
    "\n",
    "We can see that the bias of our predictions will be important.   \n",
    "We cannot say that our model is effective.\n",
    "\n",
    "But the following model already inspires me much more confidence."
   ]
  },
  {
   "cell_type": "markdown",
   "metadata": {},
   "source": [
    "![](./assets/poly_2.jpg)\n",
    "\n",
    "The polynomial can have several degrees, the more degrees it has, the more it will be able to solve complex problems."
   ]
  },
  {
   "cell_type": "markdown",
   "metadata": {},
   "source": [
    "<img src=\"https://upload.wikimedia.org/wikipedia/commons/1/16/Lsf.gif\" />\n",
    "Source <a href=https://upload.wikimedia.org/wikipedia/commons/1/16/Lsf.gif >Wikipedia</a>"
   ]
  },
  {
   "cell_type": "markdown",
   "metadata": {},
   "source": [
    "Although polynomial models allow us to model relationships of non-linear shapes, they belong to the family of linear models. In the term \"linear model\", the adjective \"linear\" refers to the parameters of the model and the fact that their effects are added together. This is indeed the case here. Moreover, linear regression is a polynomial of degree 1. "
   ]
  },
  {
   "cell_type": "markdown",
   "metadata": {},
   "source": [
    "## Variables studied"
   ]
  },
  {
   "cell_type": "code",
   "execution_count": 1,
   "metadata": {},
   "outputs": [],
   "source": [
    "import numpy as np\n",
    "from sklearn.datasets import make_regression\n",
    "import matplotlib.pyplot as plt\n",
    "import pandas as pd\n"
   ]
  },
  {
   "cell_type": "markdown",
   "metadata": {},
   "source": [
    "First of all, we will load our dataset. This is a fake dataset for the example."
   ]
  },
  {
   "cell_type": "code",
   "execution_count": 2,
   "metadata": {},
   "outputs": [
    {
     "data": {
      "text/html": [
       "<div>\n",
       "<style scoped>\n",
       "    .dataframe tbody tr th:only-of-type {\n",
       "        vertical-align: middle;\n",
       "    }\n",
       "\n",
       "    .dataframe tbody tr th {\n",
       "        vertical-align: top;\n",
       "    }\n",
       "\n",
       "    .dataframe thead th {\n",
       "        text-align: right;\n",
       "    }\n",
       "</style>\n",
       "<table border=\"1\" class=\"dataframe\">\n",
       "  <thead>\n",
       "    <tr style=\"text-align: right;\">\n",
       "      <th></th>\n",
       "      <th>x</th>\n",
       "      <th>y</th>\n",
       "    </tr>\n",
       "  </thead>\n",
       "  <tbody>\n",
       "    <tr>\n",
       "      <th>0</th>\n",
       "      <td>0.302472</td>\n",
       "      <td>-4.306789</td>\n",
       "    </tr>\n",
       "    <tr>\n",
       "      <th>1</th>\n",
       "      <td>-1.270485</td>\n",
       "      <td>-56.483346</td>\n",
       "    </tr>\n",
       "    <tr>\n",
       "      <th>2</th>\n",
       "      <td>1.532779</td>\n",
       "      <td>211.100819</td>\n",
       "    </tr>\n",
       "    <tr>\n",
       "      <th>3</th>\n",
       "      <td>-1.602058</td>\n",
       "      <td>-39.496543</td>\n",
       "    </tr>\n",
       "    <tr>\n",
       "      <th>4</th>\n",
       "      <td>1.139401</td>\n",
       "      <td>168.565071</td>\n",
       "    </tr>\n",
       "  </tbody>\n",
       "</table>\n",
       "</div>"
      ],
      "text/plain": [
       "          x           y\n",
       "0  0.302472   -4.306789\n",
       "1 -1.270485  -56.483346\n",
       "2  1.532779  211.100819\n",
       "3 -1.602058  -39.496543\n",
       "4  1.139401  168.565071"
      ]
     },
     "execution_count": 2,
     "metadata": {},
     "output_type": "execute_result"
    }
   ],
   "source": [
    "df = pd.read_csv(\"./data/poly.csv\")\n",
    "df.head()"
   ]
  },
  {
   "cell_type": "code",
   "execution_count": 3,
   "metadata": {},
   "outputs": [
    {
     "data": {
      "text/plain": [
       "(200, 2)"
      ]
     },
     "execution_count": 3,
     "metadata": {},
     "output_type": "execute_result"
    }
   ],
   "source": [
    "df.shape"
   ]
  },
  {
   "cell_type": "markdown",
   "metadata": {},
   "source": [
    "As you can see we now have 200 rows, 1 feature and 1 target."
   ]
  },
  {
   "cell_type": "markdown",
   "metadata": {},
   "source": [
    "**Exercise :** Create the x and y variables and define which column will be the target and which column will be the feature. \n",
    "Variables x and y must be of type numpy.ndarray. Our variable x therefore has one dimension. (200, 1)"
   ]
  },
  {
   "cell_type": "code",
   "execution_count": 4,
   "metadata": {},
   "outputs": [
    {
     "data": {
      "text/plain": [
       "(200,)"
      ]
     },
     "execution_count": 4,
     "metadata": {},
     "output_type": "execute_result"
    }
   ],
   "source": [
    "X= df.iloc[: , 0].values\n",
    "y= df.iloc[:,1].values\n",
    "X.shape"
   ]
  },
  {
   "cell_type": "markdown",
   "metadata": {},
   "source": [
    "### Relationship between variables"
   ]
  },
  {
   "cell_type": "markdown",
   "metadata": {},
   "source": [
    "**Exercise:** Use matplotlib (or other) to display a dataset in scatter plot."
   ]
  },
  {
   "cell_type": "code",
   "execution_count": 5,
   "metadata": {},
   "outputs": [
    {
     "data": {
      "text/plain": [
       "<matplotlib.collections.PathCollection at 0x16351cc1e20>"
      ]
     },
     "execution_count": 5,
     "metadata": {},
     "output_type": "execute_result"
    },
    {
     "data": {
      "image/png": "[encoded data removed]",
      "text/plain": [
       "<Figure size 432x288 with 1 Axes>"
      ]
     },
     "metadata": {
      "needs_background": "light"
     },
     "output_type": "display_data"
    }
   ],
   "source": [
    "\n",
    "plt.scatter(X,y)"
   ]
  },
  {
   "cell_type": "markdown",
   "metadata": {},
   "source": [
    "**Exercise :** Show correlation coefficients."
   ]
  },
  {
   "cell_type": "code",
   "execution_count": 6,
   "metadata": {},
   "outputs": [
    {
     "name": "stdout",
     "output_type": "stream",
     "text": [
      "Pearsons correlation: 0.911\n"
     ]
    }
   ],
   "source": [
    "from scipy.stats import pearsonr\n",
    "corr, _ = pearsonr(X, y)\n",
    "print('Pearsons correlation: %.3f' % corr)"
   ]
  },
  {
   "cell_type": "markdown",
   "metadata": {},
   "source": [
    "As we can see, the coefficient of correlation remains important even if the dataset is not perfectly linear."
   ]
  },
  {
   "cell_type": "markdown",
   "metadata": {},
   "source": [
    "### Split the dataset"
   ]
  },
  {
   "cell_type": "markdown",
   "metadata": {},
   "source": [
    "\n",
    "You now know the process!\n",
    "\n",
    "**Exercise :** Import train_test_split from sklearn and split the dataset and create the variables X_train, X_test, y_train, y_test."
   ]
  },
  {
   "cell_type": "code",
   "execution_count": 7,
   "metadata": {},
   "outputs": [],
   "source": [
    "from sklearn.model_selection import train_test_split\n",
    "X_train, X_test, y_train, y_test = train_test_split(X, y, test_size = 0.2, random_state = 0)"
   ]
  },
  {
   "cell_type": "markdown",
   "metadata": {},
   "source": [
    "##  Load and fit the model (with Sklearn)"
   ]
  },
  {
   "cell_type": "markdown",
   "metadata": {},
   "source": [
    "This time there is a little change. \n",
    "We have a single feature in our dataset. The polynomial model is a special case of multiple regression. So we need several features to be able to apply polymonial regression. And these features, we'll have to add them ourselves. By the way, this way of doing things has a name: feature engineering.\n",
    "\n",
    "\n",
    "Let's imagine that we want to have a 2-degree polynomial regression. \n",
    "So we will need to add a feature. \n",
    "This feature is simply an exponent of x.  \n",
    "\n",
    "$[ x, x²]$\n",
    "\n",
    "So x² is the new feature.\n",
    "\n",
    "If you want a 3-degree polynomial model, you will have to add 2 features in this case.\n",
    "\n",
    "$[x, x², x³]$\n",
    "\n",
    "To do this, we will need to create a pipeline. \n",
    "A pipeline is a processing chain that will execute a set of functions and pass arguments between them.\n"
   ]
  },
  {
   "cell_type": "code",
   "execution_count": 65,
   "metadata": {},
   "outputs": [
    {
     "data": {
      "text/plain": [
       "Pipeline(steps=[('poly_features', PolynomialFeatures(degree=3)),\n",
       "                ('lin_reg', LinearRegression())])"
      ]
     },
     "execution_count": 65,
     "metadata": {},
     "output_type": "execute_result"
    }
   ],
   "source": [
    "from sklearn.pipeline import Pipeline\n",
    "from sklearn.linear_model import LinearRegression\n",
    "from sklearn.preprocessing import PolynomialFeatures\n",
    "polynomial_regression = Pipeline([\n",
    "(\"poly_features\", PolynomialFeatures(degree=3, include_bias=True)),\n",
    "(\"lin_reg\", LinearRegression())\n",
    "])\n",
    "polynomial_regression.fit(X_train.reshape(-1, 1), y_train.reshape(-1, 1))"
   ]
  },
  {
   "cell_type": "markdown",
   "metadata": {},
   "source": [
    "First of all, we need to define the number of degrees.   \n",
    "**Exercise:** Create a degree variable with 1 as value. (We will change this value later)"
   ]
  },
  {
   "cell_type": "code",
   "execution_count": 8,
   "metadata": {},
   "outputs": [],
   "source": [
    "Var = 1"
   ]
  },
  {
   "cell_type": "markdown",
   "metadata": {},
   "source": [
    "**Exercise :** Create a pipeline with sklearn.This pipeline must contain the ``PolynomialFeatures`` and ``LinearRegression`` classes. Don't forget to set the number of degrees for the ``PolynomialFeatures``\n"
   ]
  },
  {
   "cell_type": "code",
   "execution_count": 9,
   "metadata": {},
   "outputs": [],
   "source": [
    "from sklearn.pipeline import Pipeline\n",
    "from sklearn.linear_model import LinearRegression\n",
    "from sklearn.preprocessing import PolynomialFeatures\n"
   ]
  },
  {
   "cell_type": "markdown",
   "metadata": {},
   "source": [
    "**Exercise :** Fit your model."
   ]
  },
  {
   "cell_type": "code",
   "execution_count": 10,
   "metadata": {},
   "outputs": [
    {
     "data": {
      "text/plain": [
       "LinearRegression()"
      ]
     },
     "execution_count": 10,
     "metadata": {},
     "output_type": "execute_result"
    }
   ],
   "source": [
    "lin_reg = LinearRegression()\n",
    "lin_reg.fit(X_train.reshape(-1, 1), y_train.reshape(-1, 1))"
   ]
  },
  {
   "cell_type": "code",
   "execution_count": 11,
   "metadata": {},
   "outputs": [
    {
     "data": {
      "text/plain": [
       "LinearRegression()"
      ]
     },
     "execution_count": 11,
     "metadata": {},
     "output_type": "execute_result"
    }
   ],
   "source": [
    "poly_reg = PolynomialFeatures(degree = 2)\n",
    "X_poly = poly_reg.fit_transform(X_train.reshape(-1, 1))\n",
    "lin_reg_2 = LinearRegression()\n",
    "lin_reg_2.fit(X_poly, y_train.reshape(-1, 1))"
   ]
  },
  {
   "cell_type": "markdown",
   "metadata": {},
   "source": [
    "**Exercise :** Use a scatter plot and display your predictions on X_test"
   ]
  },
  {
   "cell_type": "code",
   "execution_count": 12,
   "metadata": {},
   "outputs": [
    {
     "data": {
      "image/png": "[encoded data removed]",
      "text/plain": [
       "<Figure size 432x288 with 1 Axes>"
      ]
     },
     "metadata": {
      "needs_background": "light"
     },
     "output_type": "display_data"
    }
   ],
   "source": [
    "X_grid = np.arange(min(X_train), max(X_train), 0.1)\n",
    "X_grid = X_grid.reshape((len(X_grid), 1))\n",
    "\n",
    "plt.scatter(X_test, y_test, color = 'red')\n",
    "plt.plot(X_train, lin_reg.predict(X_train.reshape(-1,1)), color = 'blue')\n",
    "plt.plot(X_grid.reshape(-1, 1), lin_reg_2.predict(poly_reg.fit_transform(X_grid.reshape(-1, 1))), color = 'green')\n",
    "\n",
    "plt.show()"
   ]
  },
  {
   "cell_type": "markdown",
   "metadata": {},
   "source": [
    "If you see a straight line it is because we have set the number of degrees to one. This confirms that the linear regression is indeed a polynomial model of degree 1.\n",
    "\n",
    "**Exercise :** Change the number of degrees and train your model again. You must try to fit the curve as well as possible while limiting the number of degrees, to save some resources from your machine."
   ]
  },
  {
   "cell_type": "code",
   "execution_count": 13,
   "metadata": {},
   "outputs": [
    {
     "data": {
      "image/png": "[encoded data removed]",
      "text/plain": [
       "<Figure size 432x288 with 1 Axes>"
      ]
     },
     "metadata": {
      "needs_background": "light"
     },
     "output_type": "display_data"
    }
   ],
   "source": [
    "poly_reg = PolynomialFeatures(degree = 3)\n",
    "X_poly = poly_reg.fit_transform(X_train.reshape(-1, 1))\n",
    "lin_reg_2 = LinearRegression()\n",
    "lin_reg_2.fit(X_poly, y_train.reshape(-1, 1))\n",
    "    \n",
    "X_grid = np.arange(min(X_train), max(X_train), 0.1)\n",
    "X_grid = X_grid.reshape((len(X_grid), 1))\n",
    "\n",
    "plt.scatter(X_test, y_test, color = 'red')\n",
    "plt.plot(X_train, lin_reg.predict(X_train.reshape(-1,1)), color = 'blue')\n",
    "plt.plot(X_grid.reshape(-1, 1), lin_reg_2.predict(poly_reg.fit_transform(X_grid.reshape(-1, 1))), color = 'green')\n",
    "\n",
    "plt.show()"
   ]
  },
  {
   "cell_type": "markdown",
   "metadata": {},
   "source": [
    "## From scratch."
   ]
  },
  {
   "cell_type": "markdown",
   "metadata": {},
   "source": [
    "Again a few changes. This time we'll just have to add new features manually. \n",
    "\n",
    "### Transform to matrix\n",
    "\n",
    "$$\n",
    "\\\\ Y = X . \\theta \\\\\n",
    "$$\n",
    "\n",
    "The $Y$ vector is the same too\n",
    "\n",
    "$$Y =\n",
    "\\begin{bmatrix}\n",
    "y^{(1)}\\\\\n",
    "y^{(2)}\\\\\n",
    "y^{(3)}\\\\\n",
    "... \\\\\n",
    "y^{(m)}\\\\\n",
    "\\end{bmatrix}\n",
    "$$ \n"
   ]
  },
  {
   "cell_type": "markdown",
   "metadata": {},
   "source": [
    "The theta vector will have as many lines as there are characteristics +1 (for the constant). \n",
    "$$ \\theta =\n",
    "\\begin{bmatrix}\n",
    "a\\\\\n",
    "b\\\\\n",
    "c\\\\\n",
    "... \\\\\n",
    "\\end{bmatrix}\n",
    "$$"
   ]
  },
  {
   "cell_type": "markdown",
   "metadata": {},
   "source": [
    "The $X$ initially looks like this : "
   ]
  },
  {
   "cell_type": "markdown",
   "metadata": {},
   "source": [
    "$$ X =\n",
    "\\begin{bmatrix}\n",
    "x^{(1)}\\\\\n",
    "x^{(2)}\\\\\n",
    "x^{(3)}\\\\\n",
    "x^{(m)}\\\\\n",
    "\\end{bmatrix}\n",
    "$$"
   ]
  },
  {
   "cell_type": "markdown",
   "metadata": {},
   "source": [
    "If we want to add a degree to the polynomial, it adds a feature to our $X$. And this feature will contain x²."
   ]
  },
  {
   "cell_type": "markdown",
   "metadata": {},
   "source": [
    "Example of polynomial of degree 2 :"
   ]
  },
  {
   "cell_type": "markdown",
   "metadata": {},
   "source": [
    "$$ X =\n",
    "\\begin{bmatrix}\n",
    "x^{(1)}_1, x^{(1)2}_2\\\\\n",
    "x^{(2)}_1, x^{(2)2}_2\\\\\n",
    "x^{(3)}_1, x^{(3)2}_2\\\\\n",
    "\\dots, \\dots\\\\\n",
    "x^{(m)}_1,x^{(m)k}_2\\\\\n",
    "\\end{bmatrix}\n",
    "$$"
   ]
  },
  {
   "cell_type": "markdown",
   "metadata": {},
   "source": [
    "Example of polynomial of degree 3: (In this case the third feature will be of power 3.)"
   ]
  },
  {
   "cell_type": "markdown",
   "metadata": {},
   "source": [
    "$$ X =\n",
    "\\begin{bmatrix}\n",
    "x^{(1)}_1, x^{(1)2}_2, x^{(1)3}_3\\\\\n",
    "x^{(2)}_1, x^{(2)2}_2, x^{(2)3}_3\\\\\n",
    "x^{(3)}_1, x^{(3)2}_2, x^{(3)3}_3\\\\\n",
    "\\dots, \\dots,\\dots \\\\\n",
    "x^{(m)}_1,x^{(m)2}_2, x^{(m)3}_3\\\\\n",
    "\\end{bmatrix}\n",
    "$$\n",
    "\n",
    "And so on and so forth. Of course, don't forget at the end to add a feature with only 1s."
   ]
  },
  {
   "cell_type": "markdown",
   "metadata": {},
   "source": [
    "$$ X =\n",
    "\\begin{bmatrix}\n",
    "x^{(1)}_1, x^{(1)2}_2, ..., x^{(m)k}_{n}, 1\\\\\n",
    "x^{(2)}_1, x^{(2)2}_2, ..., x^{(m)k}_{n}, 1\\\\\n",
    "x^{(3)}_1, x^{(3)2}_2, ..., x^{(m)k}_{n}, 1\\\\\n",
    "x^{(m)}_1,x^{(m)k}_2, ..., x^{(m)k}_{n}, 1\\\\\n",
    "\\end{bmatrix}\n",
    "$$"
   ]
  },
  {
   "cell_type": "markdown",
   "metadata": {},
   "source": [
    "**Exercise :** Create a matrix for a 3 degrees polynomial $[x, x², x³, 1]$"
   ]
  },
  {
   "cell_type": "code",
   "execution_count": 14,
   "metadata": {},
   "outputs": [
    {
     "data": {
      "text/plain": [
       "(160, 4)"
      ]
     },
     "execution_count": 14,
     "metadata": {},
     "output_type": "execute_result"
    }
   ],
   "source": [
    "x1 = X_train.reshape(-1,1)\n",
    "x2 = np.power(x1,2)\n",
    "x3 = np.power(x2,3)\n",
    "n=len(X_train)\n",
    "x_bias = np.ones((n,1))\n",
    "x_new = np.append(x1,x2, axis = 1)\n",
    "x_new = np.append(x_new,x3, axis = 1)\n",
    "x_new = np.append(x_new,x_bias, axis = 1)\n",
    "x_new.shape"
   ]
  },
  {
   "cell_type": "markdown",
   "metadata": {},
   "source": [
    "**Exercise :** Initialize the random theta vector, with 4 elements (because X has four columns)"
   ]
  },
  {
   "cell_type": "code",
   "execution_count": 15,
   "metadata": {},
   "outputs": [
    {
     "data": {
      "text/plain": [
       "array([[0.32248008],\n",
       "       [0.77009682],\n",
       "       [0.92788728],\n",
       "       [0.24595315]])"
      ]
     },
     "execution_count": 15,
     "metadata": {},
     "output_type": "execute_result"
    }
   ],
   "source": [
    "theta = np.random.rand(4,1)\n",
    "theta"
   ]
  },
  {
   "cell_type": "markdown",
   "metadata": {},
   "source": [
    "**Exercise :** Create the model. It is always the same $$Y = X . \\theta $$"
   ]
  },
  {
   "cell_type": "code",
   "execution_count": 16,
   "metadata": {},
   "outputs": [],
   "source": [
    "#y = x_new.dot(theta)\n",
    "def model(x_new, theta):\n",
    "    return x_new.dot(theta)"
   ]
  },
  {
   "cell_type": "markdown",
   "metadata": {},
   "source": [
    "**Exercise :** Create a MSE function. It is always the same too."
   ]
  },
  {
   "cell_type": "code",
   "execution_count": 17,
   "metadata": {},
   "outputs": [],
   "source": [
    "def MSE (x_new,y_train, theta):\n",
    "    m = len(y_train)\n",
    "    return 1/(2*m)*np.sum((model(x_new,theta)-y_train)**2)"
   ]
  },
  {
   "cell_type": "markdown",
   "metadata": {},
   "source": [
    "**Exercise :** Creat a ``grad`` function. Again, It is always the same."
   ]
  },
  {
   "cell_type": "code",
   "execution_count": 18,
   "metadata": {},
   "outputs": [],
   "source": [
    "def grad (x_new, y_train, theta) :\n",
    "    m = len(y_train)\n",
    "    return 1/m * x_new.T.dot(model(x_new, theta)-y_train)\n",
    "    "
   ]
  },
  {
   "cell_type": "markdown",
   "metadata": {},
   "source": [
    "**Exercise :** \n",
    "Again...\n",
    "1. Create a gradient_descent funcion that receives as parameter X, y, theta, learning_rate, n_iterations\n",
    "2. In the function, create a variable cost_history with a matrix filled with 0 and which has a length of n_iterations. We will use it to display the histogram of the model learning process.\n",
    "3. Create a loop that iterates up to n_iterations\n",
    "4. In the loop, update theta with the formula of the gradient descent (The example above)\n",
    "5. In the loop, update cost_history[i] with the values of MSE(X,y,theta)\n",
    "6. Return theta and cost_history"
   ]
  },
  {
   "cell_type": "code",
   "execution_count": 19,
   "metadata": {},
   "outputs": [],
   "source": [
    "def gradient_descent(x_new, y_train, theta, learning_rate, n_iterations):\n",
    "    \n",
    "    cost_history = np.zeros(n_iterations)\n",
    "    \n",
    "    for i in range(n_iterations):\n",
    "        theta = theta - learning_rate * grad(x_new, y_train, theta) \n",
    "        cost_history[i] = MSE(x_new, y_train, theta)\n",
    "        #print(theta)\n",
    "        \n",
    "    return theta, cost_history"
   ]
  },
  {
   "cell_type": "markdown",
   "metadata": {},
   "source": [
    "### Train your model "
   ]
  },
  {
   "cell_type": "markdown",
   "metadata": {},
   "source": [
    "**Exercise :** Create variables n_iterations and learning_rate."
   ]
  },
  {
   "cell_type": "code",
   "execution_count": 43,
   "metadata": {},
   "outputs": [],
   "source": [
    "theta = np.random.rand(4)\n",
    "#theta = theta.reshape(-1,1)\n",
    "n_iterations =300\n",
    "learning_rate = 0.01"
   ]
  },
  {
   "cell_type": "markdown",
   "metadata": {},
   "source": [
    "**Exercise :** Create variables theta_final, cost history and instance gradient_descent()."
   ]
  },
  {
   "cell_type": "code",
   "execution_count": 44,
   "metadata": {},
   "outputs": [
    {
     "name": "stderr",
     "output_type": "stream",
     "text": [
      "<ipython-input-17-598ddb6cde8d>:3: RuntimeWarning: overflow encountered in square\n",
      "  return 1/(2*m)*np.sum((model(x_new,theta)-y_train)**2)\n",
      "<ipython-input-19-ca5276b678a2>:6: RuntimeWarning: invalid value encountered in subtract\n",
      "  theta = theta - learning_rate * grad(x_new, y_train, theta)\n"
     ]
    },
    {
     "data": {
      "text/plain": [
       "(4,)"
      ]
     },
     "execution_count": 44,
     "metadata": {},
     "output_type": "execute_result"
    }
   ],
   "source": [
    "theta_final, cost_history = gradient_descent(x_new, y_train, theta, learning_rate, n_iterations)\n",
    "theta_final.shape\n"
   ]
  },
  {
   "cell_type": "code",
   "execution_count": 48,
   "metadata": {},
   "outputs": [
    {
     "data": {
      "text/plain": [
       "(300,)"
      ]
     },
     "execution_count": 48,
     "metadata": {},
     "output_type": "execute_result"
    }
   ],
   "source": [
    "cost_history.shape"
   ]
  },
  {
   "cell_type": "markdown",
   "metadata": {},
   "source": [
    "**Exercise :** Create a predictions variable that contains model(X, theta_final).\n"
   ]
  },
  {
   "cell_type": "code",
   "execution_count": 45,
   "metadata": {},
   "outputs": [
    {
     "data": {
      "text/plain": [
       "(160,)"
      ]
     },
     "execution_count": 45,
     "metadata": {},
     "output_type": "execute_result"
    }
   ],
   "source": [
    "predictions = model(x_new, theta_final)\n",
    "predictions.shape"
   ]
  },
  {
   "cell_type": "markdown",
   "metadata": {},
   "source": [
    "**Exercise :** Project your predictions and the true values of the dataset"
   ]
  },
  {
   "cell_type": "code",
   "execution_count": 46,
   "metadata": {},
   "outputs": [
    {
     "data": {
      "text/plain": [
       "<matplotlib.collections.PathCollection at 0x16353a85fd0>"
      ]
     },
     "execution_count": 46,
     "metadata": {},
     "output_type": "execute_result"
    },
    {
     "data": {
      "image/png": "[encoded data removed]",
      "text/plain": [
       "<Figure size 432x288 with 1 Axes>"
      ]
     },
     "metadata": {
      "needs_background": "light"
     },
     "output_type": "display_data"
    }
   ],
   "source": [
    "\n",
    "plt.scatter(X_train, y_train, color = 'blue')\n",
    "\n",
    "plt.scatter(X_train, predictions, color = 'red')\n",
    "\n"
   ]
  },
  {
   "cell_type": "markdown",
   "metadata": {},
   "source": [
    "It says it looks like this."
   ]
  },
  {
   "cell_type": "markdown",
   "metadata": {},
   "source": [
    "<img src=\"./assets/poly3.JPG\" />"
   ]
  },
  {
   "cell_type": "markdown",
   "metadata": {},
   "source": [
    "**Exercise :** Plot cost_history"
   ]
  },
  {
   "cell_type": "code",
   "execution_count": 55,
   "metadata": {},
   "outputs": [
    {
     "data": {
      "image/png": "[encoded data removed]",
      "text/plain": [
       "<Figure size 432x288 with 1 Axes>"
      ]
     },
     "metadata": {
      "needs_background": "light"
     },
     "output_type": "display_data"
    }
   ],
   "source": [
    "plt.figure()\n",
    "plt.scatter( x=list(range(0, n_iterations)), y=cost_history)\n",
    "plt.show()"
   ]
  },
  {
   "cell_type": "code",
   "execution_count": null,
   "metadata": {},
   "outputs": [],
   "source": [
    "def coef_determination(y, pred):\n",
    "    u = ((y - pred)**2).sum()\n",
    "    v = ((y - y.mean())**2).sum()\n",
    "    return 1 - u/v"
   ]
  },
  {
   "cell_type": "code",
   "execution_count": null,
   "metadata": {},
   "outputs": [],
   "source": [
    "coef_determination(y, predictions)"
   ]
  },
  {
   "cell_type": "markdown",
   "metadata": {},
   "source": [
    "**Exercise :** Try to improve your model by adding a degree to your polynomial model."
   ]
  },
  {
   "cell_type": "code",
   "execution_count": null,
   "metadata": {},
   "outputs": [],
   "source": []
  },
  {
   "cell_type": "markdown",
   "metadata": {},
   "source": [
    "Good, you must feel like this now: "
   ]
  },
  {
   "cell_type": "markdown",
   "metadata": {},
   "source": [
    "![](https://media.giphy.com/media/DHqth0hVQoIzS/giphy.gif)"
   ]
  }
 ],
 "metadata": {
  "kernelspec": {
   "display_name": "Python 3",
   "language": "python",
   "name": "python3"
  },
  "language_info": {
   "codemirror_mode": {
    "name": "ipython",
    "version": 3
   },
   "file_extension": ".py",
   "mimetype": "text/x-python",
   "name": "python",
   "nbconvert_exporter": "python",
   "pygments_lexer": "ipython3",
   "version": "3.8.3"
  }
 },
 "nbformat": 4,
 "nbformat_minor": 4
}
